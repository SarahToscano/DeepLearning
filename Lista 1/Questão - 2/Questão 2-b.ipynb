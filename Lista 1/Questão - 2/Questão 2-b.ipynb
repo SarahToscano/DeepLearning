{
 "cells": [
  {
   "cell_type": "markdown",
   "metadata": {},
   "source": [
    "# Rede Perceptron de Múltiplas Camadas\n",
    "&nbsp;\n",
    "\n",
    "**Questão 2** - Implemente uma rede perceptron de múltiplas camadas e utilize-a para aproximar as duas\n",
    "funções abaixo. Em seguida, compare os resultados com as curvas exatas. No caso da letra\n",
    "(b), apresente também a curva do erro médio de treinamento com relação ao número de\n",
    "épocas e a curva do erro médio com o conjunto de validação.\n",
    "\n",
    "**a)** Função lógica XOR <br>\n",
    "**b)** _f(x) = sen(πx) / πx_ , 0 ≤ x ≤ 4\n",
    "&nbsp;"
   ]
  },
  {
   "cell_type": "markdown",
   "metadata": {},
   "source": [
    "### b) _f(x) = sen(πx) / πx_ , 0 ≤ x ≤ 4"
   ]
  },
  {
   "cell_type": "code",
   "execution_count": 1,
   "metadata": {},
   "outputs": [],
   "source": [
    "import matplotlib.pyplot as plt \n",
    "from tensorflow.keras.models import Sequential\n",
    "from tensorflow.keras.layers import Dense\n",
    "from sklearn.model_selection import train_test_split\n",
    "from data_generator_b import generator\n",
    "from sklearn.metrics import confusion_matrix, r2_score"
   ]
  },
  {
   "cell_type": "code",
   "execution_count": 2,
   "metadata": {},
   "outputs": [],
   "source": [
    "X, y = generator(2000)\n",
    "\n",
    "X_train, X_test, y_train, y_test = train_test_split(X, y, test_size = 0.2)"
   ]
  },
  {
   "cell_type": "code",
   "execution_count": 3,
   "metadata": {},
   "outputs": [],
   "source": [
    "ann = Sequential()"
   ]
  },
  {
   "cell_type": "code",
   "execution_count": 4,
   "metadata": {},
   "outputs": [],
   "source": [
    "ann.add(Dense(10, input_shape=(1,), activation='relu'))\n",
    "ann.add(Dense(5, activation='relu'))\n",
    "ann.add(Dense(1, activation='linear'))"
   ]
  },
  {
   "cell_type": "code",
   "execution_count": 5,
   "metadata": {},
   "outputs": [
    {
     "name": "stdout",
     "output_type": "stream",
     "text": [
      "Epoch 1/100\n",
      "20/20 - 0s - loss: 0.4368 - mean_squared_error: 0.2397 - val_loss: 0.3789 - val_mean_squared_error: 0.1896\n",
      "Epoch 2/100\n",
      "20/20 - 0s - loss: 0.3550 - mean_squared_error: 0.1819 - val_loss: 0.3077 - val_mean_squared_error: 0.1493\n",
      "Epoch 3/100\n",
      "20/20 - 0s - loss: 0.2923 - mean_squared_error: 0.1529 - val_loss: 0.2519 - val_mean_squared_error: 0.1279\n",
      "Epoch 4/100\n",
      "20/20 - 0s - loss: 0.2527 - mean_squared_error: 0.1382 - val_loss: 0.2278 - val_mean_squared_error: 0.1177\n",
      "Epoch 5/100\n",
      "20/20 - 0s - loss: 0.2368 - mean_squared_error: 0.1301 - val_loss: 0.2153 - val_mean_squared_error: 0.1113\n",
      "Epoch 6/100\n",
      "20/20 - 0s - loss: 0.2272 - mean_squared_error: 0.1233 - val_loss: 0.2067 - val_mean_squared_error: 0.1054\n",
      "Epoch 7/100\n",
      "20/20 - 0s - loss: 0.2197 - mean_squared_error: 0.1171 - val_loss: 0.1998 - val_mean_squared_error: 0.0995\n",
      "Epoch 8/100\n",
      "20/20 - 0s - loss: 0.2132 - mean_squared_error: 0.1107 - val_loss: 0.1936 - val_mean_squared_error: 0.0935\n",
      "Epoch 9/100\n",
      "20/20 - 0s - loss: 0.2069 - mean_squared_error: 0.1042 - val_loss: 0.1881 - val_mean_squared_error: 0.0883\n",
      "Epoch 10/100\n",
      "20/20 - 0s - loss: 0.2012 - mean_squared_error: 0.0974 - val_loss: 0.1824 - val_mean_squared_error: 0.0818\n",
      "Epoch 11/100\n",
      "20/20 - 0s - loss: 0.1954 - mean_squared_error: 0.0915 - val_loss: 0.1771 - val_mean_squared_error: 0.0769\n",
      "Epoch 12/100\n",
      "20/20 - 0s - loss: 0.1895 - mean_squared_error: 0.0853 - val_loss: 0.1716 - val_mean_squared_error: 0.0711\n",
      "Epoch 13/100\n",
      "20/20 - 0s - loss: 0.1836 - mean_squared_error: 0.0788 - val_loss: 0.1661 - val_mean_squared_error: 0.0655\n",
      "Epoch 14/100\n",
      "20/20 - 0s - loss: 0.1779 - mean_squared_error: 0.0723 - val_loss: 0.1610 - val_mean_squared_error: 0.0601\n",
      "Epoch 15/100\n",
      "20/20 - 0s - loss: 0.1725 - mean_squared_error: 0.0664 - val_loss: 0.1559 - val_mean_squared_error: 0.0550\n",
      "Epoch 16/100\n",
      "20/20 - 0s - loss: 0.1671 - mean_squared_error: 0.0610 - val_loss: 0.1510 - val_mean_squared_error: 0.0506\n",
      "Epoch 17/100\n",
      "20/20 - 0s - loss: 0.1618 - mean_squared_error: 0.0557 - val_loss: 0.1459 - val_mean_squared_error: 0.0459\n",
      "Epoch 18/100\n",
      "20/20 - 0s - loss: 0.1563 - mean_squared_error: 0.0507 - val_loss: 0.1413 - val_mean_squared_error: 0.0420\n",
      "Epoch 19/100\n",
      "20/20 - 0s - loss: 0.1509 - mean_squared_error: 0.0453 - val_loss: 0.1359 - val_mean_squared_error: 0.0372\n",
      "Epoch 20/100\n",
      "20/20 - 0s - loss: 0.1452 - mean_squared_error: 0.0406 - val_loss: 0.1309 - val_mean_squared_error: 0.0334\n",
      "Epoch 21/100\n",
      "20/20 - 0s - loss: 0.1394 - mean_squared_error: 0.0364 - val_loss: 0.1258 - val_mean_squared_error: 0.0298\n",
      "Epoch 22/100\n",
      "20/20 - 0s - loss: 0.1336 - mean_squared_error: 0.0319 - val_loss: 0.1203 - val_mean_squared_error: 0.0259\n",
      "Epoch 23/100\n",
      "20/20 - 0s - loss: 0.1275 - mean_squared_error: 0.0274 - val_loss: 0.1149 - val_mean_squared_error: 0.0224\n",
      "Epoch 24/100\n",
      "20/20 - 0s - loss: 0.1211 - mean_squared_error: 0.0237 - val_loss: 0.1099 - val_mean_squared_error: 0.0196\n",
      "Epoch 25/100\n",
      "20/20 - 0s - loss: 0.1148 - mean_squared_error: 0.0201 - val_loss: 0.1043 - val_mean_squared_error: 0.0164\n",
      "Epoch 26/100\n",
      "20/20 - 0s - loss: 0.1079 - mean_squared_error: 0.0168 - val_loss: 0.0987 - val_mean_squared_error: 0.0139\n",
      "Epoch 27/100\n",
      "20/20 - 0s - loss: 0.1011 - mean_squared_error: 0.0141 - val_loss: 0.0935 - val_mean_squared_error: 0.0120\n",
      "Epoch 28/100\n",
      "20/20 - 0s - loss: 0.0944 - mean_squared_error: 0.0120 - val_loss: 0.0876 - val_mean_squared_error: 0.0103\n",
      "Epoch 29/100\n",
      "20/20 - 0s - loss: 0.0873 - mean_squared_error: 0.0103 - val_loss: 0.0818 - val_mean_squared_error: 0.0091\n",
      "Epoch 30/100\n",
      "20/20 - 0s - loss: 0.0800 - mean_squared_error: 0.0090 - val_loss: 0.0754 - val_mean_squared_error: 0.0082\n",
      "Epoch 31/100\n",
      "20/20 - 0s - loss: 0.0730 - mean_squared_error: 0.0083 - val_loss: 0.0697 - val_mean_squared_error: 0.0077\n",
      "Epoch 32/100\n",
      "20/20 - 0s - loss: 0.0700 - mean_squared_error: 0.0080 - val_loss: 0.0686 - val_mean_squared_error: 0.0075\n",
      "Epoch 33/100\n",
      "20/20 - 0s - loss: 0.0682 - mean_squared_error: 0.0078 - val_loss: 0.0660 - val_mean_squared_error: 0.0074\n",
      "Epoch 34/100\n",
      "20/20 - 0s - loss: 0.0667 - mean_squared_error: 0.0077 - val_loss: 0.0652 - val_mean_squared_error: 0.0073\n",
      "Epoch 35/100\n",
      "20/20 - 0s - loss: 0.0656 - mean_squared_error: 0.0076 - val_loss: 0.0646 - val_mean_squared_error: 0.0072\n",
      "Epoch 36/100\n",
      "20/20 - 0s - loss: 0.0649 - mean_squared_error: 0.0075 - val_loss: 0.0642 - val_mean_squared_error: 0.0072\n",
      "Epoch 37/100\n",
      "20/20 - 0s - loss: 0.0646 - mean_squared_error: 0.0074 - val_loss: 0.0643 - val_mean_squared_error: 0.0072\n",
      "Epoch 38/100\n",
      "20/20 - 0s - loss: 0.0643 - mean_squared_error: 0.0075 - val_loss: 0.0640 - val_mean_squared_error: 0.0072\n",
      "Epoch 39/100\n",
      "20/20 - 0s - loss: 0.0641 - mean_squared_error: 0.0074 - val_loss: 0.0638 - val_mean_squared_error: 0.0072\n",
      "Epoch 40/100\n",
      "20/20 - 0s - loss: 0.0640 - mean_squared_error: 0.0074 - val_loss: 0.0637 - val_mean_squared_error: 0.0071\n",
      "Epoch 41/100\n",
      "20/20 - 0s - loss: 0.0639 - mean_squared_error: 0.0074 - val_loss: 0.0637 - val_mean_squared_error: 0.0071\n",
      "Epoch 42/100\n",
      "20/20 - 0s - loss: 0.0638 - mean_squared_error: 0.0073 - val_loss: 0.0635 - val_mean_squared_error: 0.0071\n",
      "Epoch 43/100\n",
      "20/20 - 0s - loss: 0.0636 - mean_squared_error: 0.0074 - val_loss: 0.0634 - val_mean_squared_error: 0.0071\n",
      "Epoch 44/100\n",
      "20/20 - 0s - loss: 0.0636 - mean_squared_error: 0.0073 - val_loss: 0.0636 - val_mean_squared_error: 0.0071\n",
      "Epoch 45/100\n",
      "20/20 - 0s - loss: 0.0637 - mean_squared_error: 0.0074 - val_loss: 0.0634 - val_mean_squared_error: 0.0071\n",
      "Epoch 46/100\n",
      "20/20 - 0s - loss: 0.0637 - mean_squared_error: 0.0073 - val_loss: 0.0635 - val_mean_squared_error: 0.0071\n",
      "Epoch 47/100\n",
      "20/20 - 0s - loss: 0.0634 - mean_squared_error: 0.0073 - val_loss: 0.0633 - val_mean_squared_error: 0.0071\n",
      "Epoch 48/100\n",
      "20/20 - 0s - loss: 0.0632 - mean_squared_error: 0.0073 - val_loss: 0.0634 - val_mean_squared_error: 0.0070\n",
      "Epoch 49/100\n",
      "20/20 - 0s - loss: 0.0632 - mean_squared_error: 0.0072 - val_loss: 0.0631 - val_mean_squared_error: 0.0071\n",
      "Epoch 50/100\n",
      "20/20 - 0s - loss: 0.0632 - mean_squared_error: 0.0073 - val_loss: 0.0631 - val_mean_squared_error: 0.0072\n",
      "Epoch 51/100\n",
      "20/20 - 0s - loss: 0.0630 - mean_squared_error: 0.0072 - val_loss: 0.0630 - val_mean_squared_error: 0.0070\n",
      "Epoch 52/100\n",
      "20/20 - 0s - loss: 0.0631 - mean_squared_error: 0.0073 - val_loss: 0.0630 - val_mean_squared_error: 0.0070\n",
      "Epoch 53/100\n",
      "20/20 - 0s - loss: 0.0629 - mean_squared_error: 0.0072 - val_loss: 0.0629 - val_mean_squared_error: 0.0070\n",
      "Epoch 54/100\n",
      "20/20 - 0s - loss: 0.0628 - mean_squared_error: 0.0072 - val_loss: 0.0628 - val_mean_squared_error: 0.0070\n",
      "Epoch 55/100\n",
      "20/20 - 0s - loss: 0.0627 - mean_squared_error: 0.0072 - val_loss: 0.0628 - val_mean_squared_error: 0.0071\n",
      "Epoch 56/100\n",
      "20/20 - 0s - loss: 0.0627 - mean_squared_error: 0.0072 - val_loss: 0.0628 - val_mean_squared_error: 0.0071\n",
      "Epoch 57/100\n",
      "20/20 - 0s - loss: 0.0628 - mean_squared_error: 0.0073 - val_loss: 0.0629 - val_mean_squared_error: 0.0071\n",
      "Epoch 58/100\n",
      "20/20 - 0s - loss: 0.0626 - mean_squared_error: 0.0071 - val_loss: 0.0626 - val_mean_squared_error: 0.0070\n",
      "Epoch 59/100\n",
      "20/20 - 0s - loss: 0.0625 - mean_squared_error: 0.0072 - val_loss: 0.0627 - val_mean_squared_error: 0.0071\n",
      "Epoch 60/100\n",
      "20/20 - 0s - loss: 0.0625 - mean_squared_error: 0.0072 - val_loss: 0.0625 - val_mean_squared_error: 0.0070\n",
      "Epoch 61/100\n",
      "20/20 - 0s - loss: 0.0624 - mean_squared_error: 0.0073 - val_loss: 0.0633 - val_mean_squared_error: 0.0070\n",
      "Epoch 62/100\n",
      "20/20 - 0s - loss: 0.0626 - mean_squared_error: 0.0072 - val_loss: 0.0625 - val_mean_squared_error: 0.0070\n",
      "Epoch 63/100\n",
      "20/20 - 0s - loss: 0.0624 - mean_squared_error: 0.0072 - val_loss: 0.0623 - val_mean_squared_error: 0.0070\n",
      "Epoch 64/100\n",
      "20/20 - 0s - loss: 0.0622 - mean_squared_error: 0.0071 - val_loss: 0.0623 - val_mean_squared_error: 0.0070\n",
      "Epoch 65/100\n",
      "20/20 - 0s - loss: 0.0621 - mean_squared_error: 0.0073 - val_loss: 0.0625 - val_mean_squared_error: 0.0070\n",
      "Epoch 66/100\n",
      "20/20 - 0s - loss: 0.0621 - mean_squared_error: 0.0071 - val_loss: 0.0622 - val_mean_squared_error: 0.0070\n",
      "Epoch 67/100\n",
      "20/20 - 0s - loss: 0.0618 - mean_squared_error: 0.0071 - val_loss: 0.0622 - val_mean_squared_error: 0.0070\n",
      "Epoch 68/100\n",
      "20/20 - 0s - loss: 0.0618 - mean_squared_error: 0.0073 - val_loss: 0.0622 - val_mean_squared_error: 0.0070\n",
      "Epoch 69/100\n",
      "20/20 - 0s - loss: 0.0618 - mean_squared_error: 0.0070 - val_loss: 0.0625 - val_mean_squared_error: 0.0069\n",
      "Epoch 70/100\n",
      "20/20 - 0s - loss: 0.0617 - mean_squared_error: 0.0070 - val_loss: 0.0621 - val_mean_squared_error: 0.0069\n",
      "Epoch 71/100\n",
      "20/20 - 0s - loss: 0.0615 - mean_squared_error: 0.0072 - val_loss: 0.0618 - val_mean_squared_error: 0.0069\n",
      "Epoch 72/100\n",
      "20/20 - 0s - loss: 0.0615 - mean_squared_error: 0.0070 - val_loss: 0.0623 - val_mean_squared_error: 0.0069\n",
      "Epoch 73/100\n",
      "20/20 - 0s - loss: 0.0613 - mean_squared_error: 0.0070 - val_loss: 0.0617 - val_mean_squared_error: 0.0069\n",
      "Epoch 74/100\n",
      "20/20 - 0s - loss: 0.0610 - mean_squared_error: 0.0071 - val_loss: 0.0614 - val_mean_squared_error: 0.0068\n",
      "Epoch 75/100\n",
      "20/20 - 0s - loss: 0.0610 - mean_squared_error: 0.0069 - val_loss: 0.0617 - val_mean_squared_error: 0.0069\n",
      "Epoch 76/100\n",
      "20/20 - 0s - loss: 0.0609 - mean_squared_error: 0.0071 - val_loss: 0.0613 - val_mean_squared_error: 0.0069\n",
      "Epoch 77/100\n",
      "20/20 - 0s - loss: 0.0607 - mean_squared_error: 0.0067 - val_loss: 0.0611 - val_mean_squared_error: 0.0067\n",
      "Epoch 78/100\n",
      "20/20 - 0s - loss: 0.0605 - mean_squared_error: 0.0070 - val_loss: 0.0612 - val_mean_squared_error: 0.0069\n",
      "Epoch 79/100\n",
      "20/20 - 0s - loss: 0.0603 - mean_squared_error: 0.0069 - val_loss: 0.0609 - val_mean_squared_error: 0.0067\n",
      "Epoch 80/100\n",
      "20/20 - 0s - loss: 0.0601 - mean_squared_error: 0.0067 - val_loss: 0.0607 - val_mean_squared_error: 0.0067\n",
      "Epoch 81/100\n",
      "20/20 - 0s - loss: 0.0600 - mean_squared_error: 0.0068 - val_loss: 0.0607 - val_mean_squared_error: 0.0068\n",
      "Epoch 82/100\n",
      "20/20 - 0s - loss: 0.0597 - mean_squared_error: 0.0068 - val_loss: 0.0604 - val_mean_squared_error: 0.0066\n",
      "Epoch 83/100\n",
      "20/20 - 0s - loss: 0.0596 - mean_squared_error: 0.0066 - val_loss: 0.0602 - val_mean_squared_error: 0.0066\n",
      "Epoch 84/100\n",
      "20/20 - 0s - loss: 0.0595 - mean_squared_error: 0.0068 - val_loss: 0.0603 - val_mean_squared_error: 0.0066\n",
      "Epoch 85/100\n",
      "20/20 - 0s - loss: 0.0594 - mean_squared_error: 0.0065 - val_loss: 0.0598 - val_mean_squared_error: 0.0065\n",
      "Epoch 86/100\n",
      "20/20 - 0s - loss: 0.0593 - mean_squared_error: 0.0067 - val_loss: 0.0602 - val_mean_squared_error: 0.0064\n",
      "Epoch 87/100\n",
      "20/20 - 0s - loss: 0.0588 - mean_squared_error: 0.0064 - val_loss: 0.0594 - val_mean_squared_error: 0.0063\n",
      "Epoch 88/100\n",
      "20/20 - 0s - loss: 0.0587 - mean_squared_error: 0.0067 - val_loss: 0.0594 - val_mean_squared_error: 0.0065\n",
      "Epoch 89/100\n",
      "20/20 - 0s - loss: 0.0584 - mean_squared_error: 0.0063 - val_loss: 0.0590 - val_mean_squared_error: 0.0063\n",
      "Epoch 90/100\n",
      "20/20 - 0s - loss: 0.0580 - mean_squared_error: 0.0063 - val_loss: 0.0591 - val_mean_squared_error: 0.0064\n",
      "Epoch 91/100\n",
      "20/20 - 0s - loss: 0.0578 - mean_squared_error: 0.0065 - val_loss: 0.0585 - val_mean_squared_error: 0.0062\n",
      "Epoch 92/100\n",
      "20/20 - 0s - loss: 0.0576 - mean_squared_error: 0.0062 - val_loss: 0.0586 - val_mean_squared_error: 0.0061\n",
      "Epoch 93/100\n",
      "20/20 - 0s - loss: 0.0572 - mean_squared_error: 0.0061 - val_loss: 0.0580 - val_mean_squared_error: 0.0060\n",
      "Epoch 94/100\n",
      "20/20 - 0s - loss: 0.0570 - mean_squared_error: 0.0063 - val_loss: 0.0578 - val_mean_squared_error: 0.0060\n",
      "Epoch 95/100\n",
      "20/20 - 0s - loss: 0.0566 - mean_squared_error: 0.0060 - val_loss: 0.0576 - val_mean_squared_error: 0.0060\n",
      "Epoch 96/100\n",
      "20/20 - 0s - loss: 0.0562 - mean_squared_error: 0.0060 - val_loss: 0.0575 - val_mean_squared_error: 0.0060\n",
      "Epoch 97/100\n",
      "20/20 - 0s - loss: 0.0559 - mean_squared_error: 0.0059 - val_loss: 0.0569 - val_mean_squared_error: 0.0058\n",
      "Epoch 98/100\n",
      "20/20 - 0s - loss: 0.0556 - mean_squared_error: 0.0058 - val_loss: 0.0568 - val_mean_squared_error: 0.0058\n",
      "Epoch 99/100\n",
      "20/20 - 0s - loss: 0.0553 - mean_squared_error: 0.0059 - val_loss: 0.0562 - val_mean_squared_error: 0.0056\n",
      "Epoch 100/100\n",
      "20/20 - 0s - loss: 0.0550 - mean_squared_error: 0.0055 - val_loss: 0.0559 - val_mean_squared_error: 0.0056\n"
     ]
    }
   ],
   "source": [
    "ann.compile(optimizer='adam', loss='mean_absolute_error', metrics=['mean_squared_error'])\n",
    "history = ann.fit(X_train, y_train, epochs=100, batch_size=64, validation_split=0.2, verbose=2)"
   ]
  },
  {
   "cell_type": "code",
   "execution_count": 6,
   "metadata": {},
   "outputs": [
    {
     "data": {
      "text/plain": [
       "<matplotlib.legend.Legend at 0x26fcfd09a88>"
      ]
     },
     "execution_count": 6,
     "metadata": {},
     "output_type": "execute_result"
    },
    {
     "data": {
      "image/png": "[encoded data removed]",
      "text/plain": [
       "<Figure size 432x288 with 1 Axes>"
      ]
     },
     "metadata": {
      "needs_background": "light"
     },
     "output_type": "display_data"
    }
   ],
   "source": [
    "plt.plot(history.history[\"loss\"], label=\"loss\")\n",
    "plt.plot(history.history[\"val_loss\"], label=\"val_loss\")\n",
    "plt.title('Model Loss')\n",
    "plt.ylabel('loss')\n",
    "plt.xlabel('epochs')\n",
    "plt.legend()"
   ]
  },
  {
   "cell_type": "code",
   "execution_count": 7,
   "metadata": {},
   "outputs": [
    {
     "data": {
      "text/plain": [
       "<matplotlib.legend.Legend at 0x26fd164dfc8>"
      ]
     },
     "execution_count": 7,
     "metadata": {},
     "output_type": "execute_result"
    },
    {
     "data": {
      "image/png": "[encoded data removed]",
      "text/plain": [
       "<Figure size 432x288 with 1 Axes>"
      ]
     },
     "metadata": {
      "needs_background": "light"
     },
     "output_type": "display_data"
    }
   ],
   "source": [
    "plt.plot(history.history[\"mean_squared_error\"], label=\"mean_squared_error\")\n",
    "plt.plot(history.history[\"val_mean_squared_error\"], label=\"val_mean_squared_error\")\n",
    "plt.title('Erro médio')\n",
    "plt.ylabel('mean_squared_error')\n",
    "plt.xlabel('epochs')\n",
    "plt.legend()"
   ]
  },
  {
   "cell_type": "code",
   "execution_count": 8,
   "metadata": {},
   "outputs": [
    {
     "name": "stdout",
     "output_type": "stream",
     "text": [
      "Score: 94.06%\n"
     ]
    }
   ],
   "source": [
    "y_pred = ann.predict(X_test)\n",
    "print(f'Score: {round(r2_score(y_test, y_pred)*100,2)}%')"
   ]
  }
 ],
 "metadata": {
  "kernelspec": {
   "display_name": "Python 3",
   "language": "python",
   "name": "python3"
  },
  "language_info": {
   "codemirror_mode": {
    "name": "ipython",
    "version": 3
   },
   "file_extension": ".py",
   "mimetype": "text/x-python",
   "name": "python",
   "nbconvert_exporter": "python",
   "pygments_lexer": "ipython3",
   "version": "3.8.3"
  }
 },
 "nbformat": 4,
 "nbformat_minor": 4
}
