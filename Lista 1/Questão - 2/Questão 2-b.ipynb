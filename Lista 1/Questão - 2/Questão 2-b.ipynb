{
 "cells": [
  {
   "cell_type": "markdown",
   "metadata": {},
   "source": [
    "# Rede Perceptron de Múltiplas Camadas\n",
    "&nbsp;\n",
    "\n",
    "**Questão 2** - Implemente uma rede perceptron de múltiplas camadas e utilize-a para aproximar as duas\n",
    "funções abaixo. Em seguida, compare os resultados com as curvas exatas. No caso da letra\n",
    "(b), apresente também a curva do erro médio de treinamento com relação ao número de\n",
    "épocas e a curva do erro médio com o conjunto de validação.\n",
    "\n",
    "**a)** Função lógica XOR <br>\n",
    "**b)** _f(x) = sen(πx) / πx_ , 0 ≤ x ≤ 4\n",
    "&nbsp;"
   ]
  },
  {
   "cell_type": "markdown",
   "metadata": {},
   "source": [
    "### b) _f(x) = sen(πx) / πx_ , 0 ≤ x ≤ 4"
   ]
  },
  {
   "cell_type": "code",
   "execution_count": 1,
   "metadata": {},
   "outputs": [],
   "source": [
    "import matplotlib.pyplot as plt \n",
    "from tensorflow.keras.models import Sequential\n",
    "from tensorflow.keras.layers import Dense\n",
    "from sklearn.model_selection import train_test_split\n",
    "from sklearn.metrics import accuracy_score, r2_score\n",
    "from data_generator_b import generator"
   ]
  },
  {
   "cell_type": "code",
   "execution_count": 2,
   "metadata": {},
   "outputs": [],
   "source": [
    "X, y = generator(2000)\n",
    "\n",
    "X_train, X_test, y_train, y_test = train_test_split(X, y, test_size = 0.2)"
   ]
  },
  {
   "cell_type": "code",
   "execution_count": 3,
   "metadata": {},
   "outputs": [],
   "source": [
    "ann = Sequential()"
   ]
  },
  {
   "cell_type": "code",
   "execution_count": 4,
   "metadata": {},
   "outputs": [],
   "source": [
    "ann.add(Dense(10, input_shape=(1,), activation='relu'))\n",
    "ann.add(Dense(5, activation='relu'))\n",
    "ann.add(Dense(1, activation='linear'))"
   ]
  },
  {
   "cell_type": "code",
   "execution_count": 5,
   "metadata": {},
   "outputs": [
    {
     "name": "stdout",
     "output_type": "stream",
     "text": [
      "Epoch 1/100\n",
      "20/20 - 0s - loss: 0.6220 - mean_squared_error: 0.4532 - val_loss: 0.5819 - val_mean_squared_error: 0.3941\n",
      "Epoch 2/100\n",
      "20/20 - 0s - loss: 0.5327 - mean_squared_error: 0.3408 - val_loss: 0.4899 - val_mean_squared_error: 0.2917\n",
      "Epoch 3/100\n",
      "20/20 - 0s - loss: 0.4486 - mean_squared_error: 0.2597 - val_loss: 0.4014 - val_mean_squared_error: 0.2163\n",
      "Epoch 4/100\n",
      "20/20 - 0s - loss: 0.3669 - mean_squared_error: 0.2019 - val_loss: 0.3152 - val_mean_squared_error: 0.1634\n",
      "Epoch 5/100\n",
      "20/20 - 0s - loss: 0.2895 - mean_squared_error: 0.1631 - val_loss: 0.2467 - val_mean_squared_error: 0.1327\n",
      "Epoch 6/100\n",
      "20/20 - 0s - loss: 0.2490 - mean_squared_error: 0.1444 - val_loss: 0.2220 - val_mean_squared_error: 0.1208\n",
      "Epoch 7/100\n",
      "20/20 - 0s - loss: 0.2364 - mean_squared_error: 0.1371 - val_loss: 0.2128 - val_mean_squared_error: 0.1152\n",
      "Epoch 8/100\n",
      "20/20 - 0s - loss: 0.2300 - mean_squared_error: 0.1317 - val_loss: 0.2088 - val_mean_squared_error: 0.1108\n",
      "Epoch 9/100\n",
      "20/20 - 0s - loss: 0.2259 - mean_squared_error: 0.1265 - val_loss: 0.2058 - val_mean_squared_error: 0.1060\n",
      "Epoch 10/100\n",
      "20/20 - 0s - loss: 0.2219 - mean_squared_error: 0.1208 - val_loss: 0.2030 - val_mean_squared_error: 0.1016\n",
      "Epoch 11/100\n",
      "20/20 - 0s - loss: 0.2180 - mean_squared_error: 0.1155 - val_loss: 0.1999 - val_mean_squared_error: 0.0969\n",
      "Epoch 12/100\n",
      "20/20 - 0s - loss: 0.2140 - mean_squared_error: 0.1095 - val_loss: 0.1969 - val_mean_squared_error: 0.0919\n",
      "Epoch 13/100\n",
      "20/20 - 0s - loss: 0.2097 - mean_squared_error: 0.1035 - val_loss: 0.1931 - val_mean_squared_error: 0.0871\n",
      "Epoch 14/100\n",
      "20/20 - 0s - loss: 0.2050 - mean_squared_error: 0.0982 - val_loss: 0.1882 - val_mean_squared_error: 0.0826\n",
      "Epoch 15/100\n",
      "20/20 - 0s - loss: 0.1991 - mean_squared_error: 0.0925 - val_loss: 0.1817 - val_mean_squared_error: 0.0775\n",
      "Epoch 16/100\n",
      "20/20 - 0s - loss: 0.1895 - mean_squared_error: 0.0865 - val_loss: 0.1707 - val_mean_squared_error: 0.0721\n",
      "Epoch 17/100\n",
      "20/20 - 0s - loss: 0.1816 - mean_squared_error: 0.0798 - val_loss: 0.1670 - val_mean_squared_error: 0.0665\n",
      "Epoch 18/100\n",
      "20/20 - 0s - loss: 0.1763 - mean_squared_error: 0.0733 - val_loss: 0.1636 - val_mean_squared_error: 0.0615\n",
      "Epoch 19/100\n",
      "20/20 - 0s - loss: 0.1715 - mean_squared_error: 0.0675 - val_loss: 0.1608 - val_mean_squared_error: 0.0572\n",
      "Epoch 20/100\n",
      "20/20 - 0s - loss: 0.1674 - mean_squared_error: 0.0626 - val_loss: 0.1579 - val_mean_squared_error: 0.0532\n",
      "Epoch 21/100\n",
      "20/20 - 0s - loss: 0.1633 - mean_squared_error: 0.0579 - val_loss: 0.1550 - val_mean_squared_error: 0.0497\n",
      "Epoch 22/100\n",
      "20/20 - 0s - loss: 0.1595 - mean_squared_error: 0.0539 - val_loss: 0.1516 - val_mean_squared_error: 0.0464\n",
      "Epoch 23/100\n",
      "20/20 - 0s - loss: 0.1556 - mean_squared_error: 0.0502 - val_loss: 0.1482 - val_mean_squared_error: 0.0433\n",
      "Epoch 24/100\n",
      "20/20 - 0s - loss: 0.1516 - mean_squared_error: 0.0467 - val_loss: 0.1446 - val_mean_squared_error: 0.0402\n",
      "Epoch 25/100\n",
      "20/20 - 0s - loss: 0.1481 - mean_squared_error: 0.0429 - val_loss: 0.1415 - val_mean_squared_error: 0.0368\n",
      "Epoch 26/100\n",
      "20/20 - 0s - loss: 0.1435 - mean_squared_error: 0.0395 - val_loss: 0.1374 - val_mean_squared_error: 0.0343\n",
      "Epoch 27/100\n",
      "20/20 - 0s - loss: 0.1394 - mean_squared_error: 0.0365 - val_loss: 0.1338 - val_mean_squared_error: 0.0315\n",
      "Epoch 28/100\n",
      "20/20 - 0s - loss: 0.1352 - mean_squared_error: 0.0333 - val_loss: 0.1299 - val_mean_squared_error: 0.0291\n",
      "Epoch 29/100\n",
      "20/20 - 0s - loss: 0.1308 - mean_squared_error: 0.0304 - val_loss: 0.1260 - val_mean_squared_error: 0.0265\n",
      "Epoch 30/100\n",
      "20/20 - 0s - loss: 0.1265 - mean_squared_error: 0.0274 - val_loss: 0.1221 - val_mean_squared_error: 0.0239\n",
      "Epoch 31/100\n",
      "20/20 - 0s - loss: 0.1220 - mean_squared_error: 0.0245 - val_loss: 0.1181 - val_mean_squared_error: 0.0215\n",
      "Epoch 32/100\n",
      "20/20 - 0s - loss: 0.1175 - mean_squared_error: 0.0219 - val_loss: 0.1139 - val_mean_squared_error: 0.0194\n",
      "Epoch 33/100\n",
      "20/20 - 0s - loss: 0.1130 - mean_squared_error: 0.0195 - val_loss: 0.1097 - val_mean_squared_error: 0.0174\n",
      "Epoch 34/100\n",
      "20/20 - 0s - loss: 0.1083 - mean_squared_error: 0.0174 - val_loss: 0.1055 - val_mean_squared_error: 0.0157\n",
      "Epoch 35/100\n",
      "20/20 - 0s - loss: 0.1038 - mean_squared_error: 0.0154 - val_loss: 0.1013 - val_mean_squared_error: 0.0141\n",
      "Epoch 36/100\n",
      "20/20 - 0s - loss: 0.0992 - mean_squared_error: 0.0137 - val_loss: 0.0969 - val_mean_squared_error: 0.0128\n",
      "Epoch 37/100\n",
      "20/20 - 0s - loss: 0.0946 - mean_squared_error: 0.0123 - val_loss: 0.0927 - val_mean_squared_error: 0.0116\n",
      "Epoch 38/100\n",
      "20/20 - 0s - loss: 0.0901 - mean_squared_error: 0.0110 - val_loss: 0.0885 - val_mean_squared_error: 0.0106\n",
      "Epoch 39/100\n",
      "20/20 - 0s - loss: 0.0854 - mean_squared_error: 0.0099 - val_loss: 0.0845 - val_mean_squared_error: 0.0098\n",
      "Epoch 40/100\n",
      "20/20 - 0s - loss: 0.0808 - mean_squared_error: 0.0091 - val_loss: 0.0803 - val_mean_squared_error: 0.0092\n",
      "Epoch 41/100\n",
      "20/20 - 0s - loss: 0.0760 - mean_squared_error: 0.0085 - val_loss: 0.0763 - val_mean_squared_error: 0.0088\n",
      "Epoch 42/100\n",
      "20/20 - 0s - loss: 0.0714 - mean_squared_error: 0.0081 - val_loss: 0.0728 - val_mean_squared_error: 0.0086\n",
      "Epoch 43/100\n",
      "20/20 - 0s - loss: 0.0680 - mean_squared_error: 0.0079 - val_loss: 0.0708 - val_mean_squared_error: 0.0085\n",
      "Epoch 44/100\n",
      "20/20 - 0s - loss: 0.0669 - mean_squared_error: 0.0079 - val_loss: 0.0704 - val_mean_squared_error: 0.0084\n",
      "Epoch 45/100\n",
      "20/20 - 0s - loss: 0.0667 - mean_squared_error: 0.0079 - val_loss: 0.0698 - val_mean_squared_error: 0.0084\n",
      "Epoch 46/100\n",
      "20/20 - 0s - loss: 0.0664 - mean_squared_error: 0.0079 - val_loss: 0.0697 - val_mean_squared_error: 0.0084\n",
      "Epoch 47/100\n",
      "20/20 - 0s - loss: 0.0664 - mean_squared_error: 0.0079 - val_loss: 0.0696 - val_mean_squared_error: 0.0084\n",
      "Epoch 48/100\n",
      "20/20 - 0s - loss: 0.0662 - mean_squared_error: 0.0079 - val_loss: 0.0694 - val_mean_squared_error: 0.0084\n",
      "Epoch 49/100\n",
      "20/20 - 0s - loss: 0.0662 - mean_squared_error: 0.0080 - val_loss: 0.0694 - val_mean_squared_error: 0.0084\n",
      "Epoch 50/100\n",
      "20/20 - 0s - loss: 0.0662 - mean_squared_error: 0.0080 - val_loss: 0.0694 - val_mean_squared_error: 0.0084\n",
      "Epoch 51/100\n",
      "20/20 - 0s - loss: 0.0662 - mean_squared_error: 0.0080 - val_loss: 0.0695 - val_mean_squared_error: 0.0084\n",
      "Epoch 52/100\n",
      "20/20 - 0s - loss: 0.0661 - mean_squared_error: 0.0080 - val_loss: 0.0694 - val_mean_squared_error: 0.0084\n",
      "Epoch 53/100\n",
      "20/20 - 0s - loss: 0.0662 - mean_squared_error: 0.0080 - val_loss: 0.0695 - val_mean_squared_error: 0.0084\n",
      "Epoch 54/100\n",
      "20/20 - 0s - loss: 0.0661 - mean_squared_error: 0.0080 - val_loss: 0.0694 - val_mean_squared_error: 0.0084\n",
      "Epoch 55/100\n",
      "20/20 - 0s - loss: 0.0661 - mean_squared_error: 0.0080 - val_loss: 0.0695 - val_mean_squared_error: 0.0084\n",
      "Epoch 56/100\n",
      "20/20 - 0s - loss: 0.0661 - mean_squared_error: 0.0080 - val_loss: 0.0694 - val_mean_squared_error: 0.0084\n",
      "Epoch 57/100\n",
      "20/20 - 0s - loss: 0.0662 - mean_squared_error: 0.0080 - val_loss: 0.0695 - val_mean_squared_error: 0.0084\n",
      "Epoch 58/100\n",
      "20/20 - 0s - loss: 0.0662 - mean_squared_error: 0.0080 - val_loss: 0.0697 - val_mean_squared_error: 0.0084\n",
      "Epoch 59/100\n",
      "20/20 - 0s - loss: 0.0662 - mean_squared_error: 0.0080 - val_loss: 0.0697 - val_mean_squared_error: 0.0084\n",
      "Epoch 60/100\n",
      "20/20 - 0s - loss: 0.0662 - mean_squared_error: 0.0079 - val_loss: 0.0695 - val_mean_squared_error: 0.0084\n",
      "Epoch 61/100\n",
      "20/20 - 0s - loss: 0.0662 - mean_squared_error: 0.0080 - val_loss: 0.0696 - val_mean_squared_error: 0.0084\n",
      "Epoch 62/100\n",
      "20/20 - 0s - loss: 0.0663 - mean_squared_error: 0.0080 - val_loss: 0.0695 - val_mean_squared_error: 0.0084\n",
      "Epoch 63/100\n",
      "20/20 - 0s - loss: 0.0663 - mean_squared_error: 0.0080 - val_loss: 0.0694 - val_mean_squared_error: 0.0084\n",
      "Epoch 64/100\n",
      "20/20 - 0s - loss: 0.0661 - mean_squared_error: 0.0080 - val_loss: 0.0695 - val_mean_squared_error: 0.0084\n",
      "Epoch 65/100\n",
      "20/20 - 0s - loss: 0.0662 - mean_squared_error: 0.0080 - val_loss: 0.0694 - val_mean_squared_error: 0.0084\n",
      "Epoch 66/100\n",
      "20/20 - 0s - loss: 0.0661 - mean_squared_error: 0.0080 - val_loss: 0.0698 - val_mean_squared_error: 0.0084\n",
      "Epoch 67/100\n",
      "20/20 - 0s - loss: 0.0662 - mean_squared_error: 0.0080 - val_loss: 0.0695 - val_mean_squared_error: 0.0084\n",
      "Epoch 68/100\n",
      "20/20 - 0s - loss: 0.0662 - mean_squared_error: 0.0080 - val_loss: 0.0695 - val_mean_squared_error: 0.0084\n",
      "Epoch 69/100\n",
      "20/20 - 0s - loss: 0.0662 - mean_squared_error: 0.0080 - val_loss: 0.0694 - val_mean_squared_error: 0.0084\n"
     ]
    },
    {
     "name": "stdout",
     "output_type": "stream",
     "text": [
      "Epoch 70/100\n",
      "20/20 - 0s - loss: 0.0662 - mean_squared_error: 0.0080 - val_loss: 0.0696 - val_mean_squared_error: 0.0084\n",
      "Epoch 71/100\n",
      "20/20 - 0s - loss: 0.0662 - mean_squared_error: 0.0080 - val_loss: 0.0695 - val_mean_squared_error: 0.0084\n",
      "Epoch 72/100\n",
      "20/20 - 0s - loss: 0.0661 - mean_squared_error: 0.0080 - val_loss: 0.0695 - val_mean_squared_error: 0.0084\n",
      "Epoch 73/100\n",
      "20/20 - 0s - loss: 0.0661 - mean_squared_error: 0.0080 - val_loss: 0.0695 - val_mean_squared_error: 0.0084\n",
      "Epoch 74/100\n",
      "20/20 - 0s - loss: 0.0661 - mean_squared_error: 0.0080 - val_loss: 0.0694 - val_mean_squared_error: 0.0084\n",
      "Epoch 75/100\n",
      "20/20 - 0s - loss: 0.0662 - mean_squared_error: 0.0079 - val_loss: 0.0695 - val_mean_squared_error: 0.0084\n",
      "Epoch 76/100\n",
      "20/20 - 0s - loss: 0.0662 - mean_squared_error: 0.0080 - val_loss: 0.0695 - val_mean_squared_error: 0.0084\n",
      "Epoch 77/100\n",
      "20/20 - 0s - loss: 0.0661 - mean_squared_error: 0.0080 - val_loss: 0.0695 - val_mean_squared_error: 0.0084\n",
      "Epoch 78/100\n",
      "20/20 - 0s - loss: 0.0661 - mean_squared_error: 0.0080 - val_loss: 0.0694 - val_mean_squared_error: 0.0084\n",
      "Epoch 79/100\n",
      "20/20 - 0s - loss: 0.0662 - mean_squared_error: 0.0080 - val_loss: 0.0694 - val_mean_squared_error: 0.0084\n",
      "Epoch 80/100\n",
      "20/20 - 0s - loss: 0.0661 - mean_squared_error: 0.0080 - val_loss: 0.0694 - val_mean_squared_error: 0.0084\n",
      "Epoch 81/100\n",
      "20/20 - 0s - loss: 0.0661 - mean_squared_error: 0.0079 - val_loss: 0.0696 - val_mean_squared_error: 0.0084\n",
      "Epoch 82/100\n",
      "20/20 - 0s - loss: 0.0661 - mean_squared_error: 0.0080 - val_loss: 0.0693 - val_mean_squared_error: 0.0084\n",
      "Epoch 83/100\n",
      "20/20 - 0s - loss: 0.0661 - mean_squared_error: 0.0080 - val_loss: 0.0694 - val_mean_squared_error: 0.0084\n",
      "Epoch 84/100\n",
      "20/20 - 0s - loss: 0.0661 - mean_squared_error: 0.0080 - val_loss: 0.0694 - val_mean_squared_error: 0.0084\n",
      "Epoch 85/100\n",
      "20/20 - 0s - loss: 0.0662 - mean_squared_error: 0.0080 - val_loss: 0.0697 - val_mean_squared_error: 0.0084\n",
      "Epoch 86/100\n",
      "20/20 - 0s - loss: 0.0661 - mean_squared_error: 0.0080 - val_loss: 0.0694 - val_mean_squared_error: 0.0084\n",
      "Epoch 87/100\n",
      "20/20 - 0s - loss: 0.0663 - mean_squared_error: 0.0080 - val_loss: 0.0695 - val_mean_squared_error: 0.0084\n",
      "Epoch 88/100\n",
      "20/20 - 0s - loss: 0.0661 - mean_squared_error: 0.0080 - val_loss: 0.0693 - val_mean_squared_error: 0.0084\n",
      "Epoch 89/100\n",
      "20/20 - 0s - loss: 0.0661 - mean_squared_error: 0.0079 - val_loss: 0.0695 - val_mean_squared_error: 0.0084\n",
      "Epoch 90/100\n",
      "20/20 - 0s - loss: 0.0662 - mean_squared_error: 0.0079 - val_loss: 0.0696 - val_mean_squared_error: 0.0084\n",
      "Epoch 91/100\n",
      "20/20 - 0s - loss: 0.0662 - mean_squared_error: 0.0080 - val_loss: 0.0694 - val_mean_squared_error: 0.0084\n",
      "Epoch 92/100\n",
      "20/20 - 0s - loss: 0.0661 - mean_squared_error: 0.0080 - val_loss: 0.0695 - val_mean_squared_error: 0.0084\n",
      "Epoch 93/100\n",
      "20/20 - 0s - loss: 0.0661 - mean_squared_error: 0.0080 - val_loss: 0.0694 - val_mean_squared_error: 0.0084\n",
      "Epoch 94/100\n",
      "20/20 - 0s - loss: 0.0661 - mean_squared_error: 0.0080 - val_loss: 0.0693 - val_mean_squared_error: 0.0084\n",
      "Epoch 95/100\n",
      "20/20 - 0s - loss: 0.0661 - mean_squared_error: 0.0080 - val_loss: 0.0694 - val_mean_squared_error: 0.0084\n",
      "Epoch 96/100\n",
      "20/20 - 0s - loss: 0.0661 - mean_squared_error: 0.0080 - val_loss: 0.0698 - val_mean_squared_error: 0.0084\n",
      "Epoch 97/100\n",
      "20/20 - 0s - loss: 0.0661 - mean_squared_error: 0.0079 - val_loss: 0.0695 - val_mean_squared_error: 0.0084\n",
      "Epoch 98/100\n",
      "20/20 - 0s - loss: 0.0661 - mean_squared_error: 0.0080 - val_loss: 0.0693 - val_mean_squared_error: 0.0084\n",
      "Epoch 99/100\n",
      "20/20 - 0s - loss: 0.0661 - mean_squared_error: 0.0080 - val_loss: 0.0694 - val_mean_squared_error: 0.0084\n",
      "Epoch 100/100\n",
      "20/20 - 0s - loss: 0.0660 - mean_squared_error: 0.0079 - val_loss: 0.0696 - val_mean_squared_error: 0.0084\n"
     ]
    }
   ],
   "source": [
    "ann.compile(optimizer='adam', loss='mean_absolute_error', metrics=['mean_squared_error'])\n",
    "history = ann.fit(X_train, y_train, epochs=100, batch_size=64, validation_split=0.2, verbose=2)"
   ]
  },
  {
   "cell_type": "code",
   "execution_count": 11,
   "metadata": {},
   "outputs": [
    {
     "data": {
      "text/plain": [
       "<matplotlib.legend.Legend at 0x1c2e9740208>"
      ]
     },
     "execution_count": 11,
     "metadata": {},
     "output_type": "execute_result"
    },
    {
     "data": {
      "image/png": "[encoded data removed]",
      "text/plain": [
       "<Figure size 432x288 with 1 Axes>"
      ]
     },
     "metadata": {
      "needs_background": "light"
     },
     "output_type": "display_data"
    }
   ],
   "source": [
    "plt.plot(history.history[\"loss\"], label=\"loss\")\n",
    "plt.plot(history.history[\"val_loss\"], label=\"val_loss\")\n",
    "plt.title('Model Loss')\n",
    "plt.ylabel('loss')\n",
    "plt.xlabel('epochs')\n",
    "plt.legend()"
   ]
  },
  {
   "cell_type": "code",
   "execution_count": 9,
   "metadata": {},
   "outputs": [
    {
     "data": {
      "text/plain": [
       "<matplotlib.legend.Legend at 0x1c2e957db08>"
      ]
     },
     "execution_count": 9,
     "metadata": {},
     "output_type": "execute_result"
    },
    {
     "data": {
      "image/png": "[encoded data removed]",
      "text/plain": [
       "<Figure size 432x288 with 1 Axes>"
      ]
     },
     "metadata": {
      "needs_background": "light"
     },
     "output_type": "display_data"
    }
   ],
   "source": [
    "plt.plot(history.history[\"mean_squared_error\"], label=\"mean_squared_error\")\n",
    "plt.plot(history.history[\"val_mean_squared_error\"], label=\"val_mean_squared_error\")\n",
    "plt.title('Erro médio')\n",
    "plt.ylabel('mean_squared_error')\n",
    "plt.xlabel('epochs')\n",
    "plt.legend()"
   ]
  },
  {
   "cell_type": "code",
   "execution_count": 7,
   "metadata": {},
   "outputs": [
    {
     "name": "stdout",
     "output_type": "stream",
     "text": [
      "Score: 93.06%\n"
     ]
    }
   ],
   "source": [
    "y_pred = ann.predict(X_test)\n",
    "print(f'Score: {round(r2_score(y_test, y_pred)*100,2)}%')"
   ]
  }
 ],
 "metadata": {
  "kernelspec": {
   "display_name": "Python 3",
   "language": "python",
   "name": "python3"
  },
  "language_info": {
   "codemirror_mode": {
    "name": "ipython",
    "version": 3
   },
   "file_extension": ".py",
   "mimetype": "text/x-python",
   "name": "python",
   "nbconvert_exporter": "python",
   "pygments_lexer": "ipython3",
   "version": "3.7.6"
  }
 },
 "nbformat": 4,
 "nbformat_minor": 4
}
