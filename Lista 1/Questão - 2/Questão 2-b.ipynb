{
 "cells": [
  {
   "cell_type": "markdown",
   "metadata": {},
   "source": [
    "# Rede Perceptron de Múltiplas Camadas\n",
    "&nbsp;\n",
    "\n",
    "**Questão 2** - Implemente uma rede perceptron de múltiplas camadas e utilize-a para aproximar as duas\n",
    "funções abaixo. Em seguida, compare os resultados com as curvas exatas. No caso da letra\n",
    "(b), apresente também a curva do erro médio de treinamento com relação ao número de\n",
    "épocas e a curva do erro médio com o conjunto de validação.\n",
    "\n",
    "**a)** Função lógica XOR <br>\n",
    "**b)** _f(x) = sen(πx) / πx_ , 0 ≤ x ≤ 4\n",
    "&nbsp;"
   ]
  },
  {
   "cell_type": "markdown",
   "metadata": {},
   "source": [
    "### b) _f(x) = sen(πx) / πx_ , 0 ≤ x ≤ 4"
   ]
  },
  {
   "cell_type": "code",
   "execution_count": 1,
   "metadata": {},
   "outputs": [],
   "source": [
    "import numpy as np\n",
    "import pandas as pd\n",
    "import tensorflow as tf\n",
    "from sklearn.model_selection import train_test_split\n",
    "from sklearn.preprocessing import StandardScaler\n",
    "from sklearn.metrics import confusion_matrix, accuracy_score\n",
    "import matplotlib.pyplot as plt"
   ]
  },
  {
   "cell_type": "code",
   "execution_count": 2,
   "metadata": {},
   "outputs": [
    {
     "name": "stdout",
     "output_type": "stream",
     "text": [
      "400 400\n"
     ]
    }
   ],
   "source": [
    "x = []\n",
    "y = []\n",
    "\n",
    "for line in open('data_x.txt', 'r').readlines():\n",
    "    x.append([float(num) for num in line.split(',')])\n",
    "\n",
    "for line in open('data_y.txt', 'r').readlines():\n",
    "    y.append([float(num) for num in line.split(',')])\n",
    "    \n",
    "print(len(x), len(y))"
   ]
  },
  {
   "cell_type": "code",
   "execution_count": 3,
   "metadata": {},
   "outputs": [
    {
     "name": "stdout",
     "output_type": "stream",
     "text": [
      "320 320\n",
      "64 64\n"
     ]
    }
   ],
   "source": [
    "# dados de treino\n",
    "x = np.array(x[:int(len(x) * 0.8)])\n",
    "y = np.array(y[:int(len(y) * 0.8)])\n",
    "\n",
    "print(len(x), len(y))\n",
    "\n",
    "# dados de validação\n",
    "x_valid = np.array(x[int(len(x) * 0.8):])\n",
    "y_valid = np.array(y[int(len(y) * 0.8):])\n",
    "\n",
    "print(len(x_valid), len(y_valid))"
   ]
  },
  {
   "cell_type": "code",
   "execution_count": 4,
   "metadata": {},
   "outputs": [
    {
     "name": "stdout",
     "output_type": "stream",
     "text": [
      "X [TREINO]:  (320, 1)\n",
      "Y [TREINO]:  (320, 1)\n",
      "\n",
      "X [TESTE]:  (64, 1)\n",
      "Y [TESTE]:  (64, 1)\n"
     ]
    },
    {
     "data": {
      "image/png": "[encoded data removed]",
      "text/plain": [
       "<Figure size 432x288 with 1 Axes>"
      ]
     },
     "metadata": {
      "needs_background": "light"
     },
     "output_type": "display_data"
    }
   ],
   "source": [
    "print(\"X [TREINO]: \", x.shape)\n",
    "print(\"Y [TREINO]: \", y.shape)\n",
    "print()\n",
    "print(\"X [TESTE]: \", x_valid.shape)\n",
    "print(\"Y [TESTE]: \", y_valid.shape)\n",
    "\n",
    "plt.plot(x, y, 'bo')\n",
    "plt.show()"
   ]
  },
  {
   "cell_type": "code",
   "execution_count": 5,
   "metadata": {},
   "outputs": [],
   "source": [
    "ann = tf.keras.models.Sequential()"
   ]
  },
  {
   "cell_type": "code",
   "execution_count": 6,
   "metadata": {},
   "outputs": [],
   "source": [
    "ann.add(tf.keras.layers.Dense(units=10, activation='tanh', input_dim=x.shape[1]))\n",
    "ann.add(tf.keras.layers.Dense(units=10, activation='relu'))\n",
    "ann.add(tf.keras.layers.Dense(units=10, activation='relu'))\n",
    "\n",
    "ann.add(tf.keras.layers.Dense(units=y.shape[1], activation='tanh'))"
   ]
  },
  {
   "cell_type": "code",
   "execution_count": 7,
   "metadata": {},
   "outputs": [
    {
     "data": {
      "image/png": "[encoded data removed]",
      "text/plain": [
       "<Figure size 432x288 with 1 Axes>"
      ]
     },
     "metadata": {
      "needs_background": "light"
     },
     "output_type": "display_data"
    }
   ],
   "source": [
    "# treinamento\n",
    "# errors_train, errors_valid = ann.fit(x, y, x_valid, y_valid, batch_size=1, epochs=500, verbose=50, accuracy=False)\n",
    "ann.compile(optimizer = 'adam', loss = 'binary_crossentropy', metrics = ['accuracy'])\n",
    "ann.fit(x_valid, y_valid, batch_size = 32, epochs = 100, verbose=0)\n",
    "\n",
    "# plot_error([errors_train, errors_valid], [\"Treino\", \"Validação\"])\n",
    "\n",
    "# calculo do erro de predição\n",
    "y_pred = ann.predict(x_valid)\n",
    "\n",
    "plt.plot(x, y, 'bo')\n",
    "plt.plot(x_valid, y_pred, 'go')\n",
    "plt.show()"
   ]
  }
 ],
 "metadata": {
  "kernelspec": {
   "display_name": "Python 3",
   "language": "python",
   "name": "python3"
  },
  "language_info": {
   "codemirror_mode": {
    "name": "ipython",
    "version": 3
   },
   "file_extension": ".py",
   "mimetype": "text/x-python",
   "name": "python",
   "nbconvert_exporter": "python",
   "pygments_lexer": "ipython3",
   "version": "3.7.6"
  }
 },
 "nbformat": 4,
 "nbformat_minor": 4
}
