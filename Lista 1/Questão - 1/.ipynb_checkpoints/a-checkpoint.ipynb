{
 "cells": [
  {
   "cell_type": "code",
   "execution_count": 1,
   "metadata": {},
   "outputs": [],
   "source": [
    "import numpy as np\n",
    "import matplotlib.patches as mpatches\n",
    "import matplotlib.pyplot as plt\n",
    "from sklearn.model_selection import train_test_split\n"
   ]
  },
  {
   "cell_type": "code",
   "execution_count": 2,
   "metadata": {},
   "outputs": [],
   "source": [
    "def step(x):\n",
    "    return np.where(x>0,1,-1)"
   ]
  },
  {
   "cell_type": "code",
   "execution_count": 3,
   "metadata": {},
   "outputs": [],
   "source": [
    "def plot_error(data=[], label=['', ''], color=['blue', 'red']):\n",
    "    plt.title(\"Erros de treino e validação\")\n",
    "    plt.xlabel(\"epochs\")\n",
    "    plt.ylabel(\"errors\")\n",
    "    plt.legend(handles=[mpatches.Patch(color=color[0], label=label[0]),\n",
    "                        mpatches.Patch(color=color[1], label=label[1])])\n",
    "    plt.plot(data[0], c=color[0])\n",
    "    plt.plot(data[1], c=color[1])\n",
    "    plt.show()"
   ]
  },
  {
   "cell_type": "code",
   "execution_count": 13,
   "metadata": {},
   "outputs": [],
   "source": [
    "class Layer(object):\n",
    "    def __init__(self, input_dim, units=1, activation=step):\n",
    "        self.input = None\n",
    "        self.weights = np.random.randn(units, input_dim)\n",
    "        self.biases = np.random.randn(1, units)\n",
    "        self.activation = activation\n",
    "        self._activ_out = None"
   ]
  },
  {
   "cell_type": "code",
   "execution_count": 14,
   "metadata": {},
   "outputs": [],
   "source": [
    "class NeuralNetwork():\n",
    "    def __init__(self):\n",
    "        self.layers = []\n",
    "        \n",
    "    def add_layer(self, layer):\n",
    "        self.layers.append(layer)\n",
    "        \n",
    "    def prediction(self, x):\n",
    "        y_pred = []\n",
    "        for i in x:\n",
    "            y_pred.append(self.__feedforward(i)) \n",
    "        return np.array(y_pred)\n",
    "        \n",
    "    def __feedforward(self, x):\n",
    "        self.layers[0].input = x\n",
    "        y = np.dot(self.layers[0].input, self.layers[0].weights.T) + self.layers[0].biases\n",
    "        self.layers[0]._activ_out =  self.layers[0].activation(y)\n",
    "        return self.layers[0].activation(y)\n",
    "        \n",
    "    def fit(self, x, y, x_test, y_test, learning_rate=1e-3, epochs=100, plot=False):\n",
    "        errors_train = []\n",
    "        errors_test = []\n",
    "\n",
    "        for epoch in range(epochs+1):\n",
    "            error_epoch = []\n",
    "            for x_i, y_i in zip(x, y):\n",
    "                x_i =  x_i.reshape(1, x.shape[1])\n",
    "                y_pred = self.__feedforward(x_i)\n",
    "                \n",
    "                # erro de treinamento\n",
    "                erro = y_i - y_pred\n",
    "                error_epoch.append(np.mean(np.abs(erro[0])))\n",
    "                \n",
    "                for layer in self.layers:\n",
    "                    layer.weights += learning_rate * np.dot(erro.T, x_i)\n",
    "                    layer.biases += learning_rate * erro[0]\n",
    "            \n",
    "            # calculo do erro de predição\n",
    "            y_pred = self.prediction(x_test)\n",
    "            acc = self.evaluate(y_pred, y_test)\n",
    "            errors_test.append(1 - acc)\n",
    "            errors_train.append(np.mean(error_epoch))\n",
    "            \n",
    "            \n",
    "            \n",
    "        return errors_train, errors_test\n",
    "    \n",
    "   \n",
    "    def evaluate(self,y_pred, y, dtype=int):\n",
    "        '''\n",
    "            Método Evaluate - Verifica a accuracy da rede\n",
    "            Parâmetros:\n",
    "                y_pred - resultado do processo de FeedForward sobre os dados de entrada\n",
    "                dtype - tipo dos dados\n",
    "        '''\n",
    "        score = 0\n",
    "        #total = 100.0/y.shape[0]\n",
    "        total = 1/y.shape[0]\n",
    "\n",
    "        # verifica se possuem o tipo de saída esperado\n",
    "        y_pred = y_pred.astype(dtype)\n",
    "        y = y.astype(dtype)\n",
    "\n",
    "        for y_i, y_pred_i in zip(y,y_pred):\n",
    "            if np.array_equal(y_i,y_pred_i[0]):\n",
    "                score+=1\n",
    "\n",
    "        return score*total"
   ]
  },
  {
   "cell_type": "code",
   "execution_count": 15,
   "metadata": {},
   "outputs": [
    {
     "data": {
      "image/png": "[encoded data removed]",
      "text/plain": [
       "<Figure size 432x288 with 1 Axes>"
      ]
     },
     "metadata": {
      "needs_background": "light"
     },
     "output_type": "display_data"
    }
   ],
   "source": [
    "nn = NeuralNetwork()\n",
    "\n",
    "x = []\n",
    "y = []\n",
    "\n",
    "# leitura dos dados\n",
    "x= np.loadtxt('input_x.txt', dtype=float, delimiter=',', encoding='bytes')\n",
    "y= np.loadtxt('output_y.txt', dtype=float, delimiter=',', encoding='bytes')\n",
    "\n",
    "\n",
    "x, x_valid, y, y_valid = train_test_split(x, y, test_size = 0.2, random_state = 0)\n",
    "\n",
    "\n",
    "nn.add_layer(Layer(input_dim=x.shape[1], units=y.shape[1], activation=step))\n",
    "\n",
    "# treinamento\n",
    "errors_train, errors_valid = nn.fit(x, y, x_valid, y_valid, learning_rate=0.01 , epochs=40,  plot=True)\n",
    "\n",
    "plot_error([errors_train, errors_valid], [\"Treino\", \"Validação\"])"
   ]
  },
  {
   "cell_type": "code",
   "execution_count": null,
   "metadata": {},
   "outputs": [],
   "source": []
  },
  {
   "cell_type": "code",
   "execution_count": null,
   "metadata": {},
   "outputs": [],
   "source": []
  }
 ],
 "metadata": {
  "kernelspec": {
   "display_name": "Python 3",
   "language": "python",
   "name": "python3"
  },
  "language_info": {
   "codemirror_mode": {
    "name": "ipython",
    "version": 3
   },
   "file_extension": ".py",
   "mimetype": "text/x-python",
   "name": "python",
   "nbconvert_exporter": "python",
   "pygments_lexer": "ipython3",
   "version": "3.8.3"
  }
 },
 "nbformat": 4,
 "nbformat_minor": 4
}
