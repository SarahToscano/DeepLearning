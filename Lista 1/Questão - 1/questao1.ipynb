{
 "cells": [
  {
   "cell_type": "markdown",
   "metadata": {},
   "source": [
    "# Questão 1: Perceptron de Rosenblatt"
   ]
  },
  {
   "cell_type": "markdown",
   "metadata": {},
   "source": [
    "## Problema"
   ]
  },
  {
   "cell_type": "markdown",
   "metadata": {},
   "source": [
    "A representação de uma determinada mensagem digital ternária, isto é formada por três bits,\n",
    "forma um cubo cujos vértices correspondem a mesma representação digital. Supondo que ao\n",
    "transmitirmos esta mensagem a mesma possa ser contaminada por ruído formado em torno de\n",
    "cada vértice uma nuvem esférica de valores aleatórios com raio máximo é 0.1 e mínimo de -0.1. "
   ]
  },
  {
   "cell_type": "markdown",
   "metadata": {},
   "source": [
    "## Objetivo"
   ]
  },
  {
   "cell_type": "markdown",
   "metadata": {},
   "source": [
    " Formular este problema como um problema de classificação de 8 padrões e treinar uma rede Perceptron de\n",
    "Rosenblatt (Perceptron de camada única) para atuar como classificador/decodificador. \n",
    "\n",
    "Para esta solução será utilizado o conjunto de treinamento \"input_x.txt\" e o conjunto de validação \"output_y.txt\"."
   ]
  },
  {
   "cell_type": "markdown",
   "metadata": {},
   "source": [
    "## Import das bibliotecas"
   ]
  },
  {
   "cell_type": "code",
   "execution_count": 52,
   "metadata": {},
   "outputs": [],
   "source": [
    "import numpy as np\n",
    "import statistics as st\n",
    "import matplotlib.pyplot as plt\n",
    "import matplotlib.patches as mpatches"
   ]
  },
  {
   "cell_type": "markdown",
   "metadata": {},
   "source": [
    "## Camada\n",
    "\n",
    "A classe Layer é inicializada com a dimensão dos dados de entrada, número de neurônios e o tipo da função de ativação a ser utilizada. Seus parâmetros são classificados em:    \n",
    "\n",
    "▶ Dados de entrada: **input**   \n",
    "▶ Matriz (neuronios X dim. da entrada) com o peso de todos os neurônios: **weight**    \n",
    "▶ Vetor com dados do bias de todos os neurônios: **bias**   \n",
    "▶ O tipo da função de ativação a ser utilizada: **activation**  \n",
    "▶ A matriz de saída da camada: **_out_layer**  \n",
    "\n",
    "\n",
    "\n"
   ]
  },
  {
   "cell_type": "code",
   "execution_count": 61,
   "metadata": {},
   "outputs": [],
   "source": [
    "class Layer():\n",
    "    def __init__(self, input_dim, neuron_num=1, activation=step):\n",
    "        self.input = None\n",
    "        self.weight = np.random.randn(neuron_num, input_dim)\n",
    "        self.bias = np.random.randn(1, neuron_num)\n",
    "        self.activation = activation\n",
    "        self._out_layer = None"
   ]
  },
  {
   "cell_type": "markdown",
   "metadata": {},
   "source": [
    "## Funções de Ativação\n",
    "\n",
    "Nesta Seção são implementadas 4 tipos "
   ]
  },
  {
   "cell_type": "code",
   "execution_count": 40,
   "metadata": {},
   "outputs": [],
   "source": [
    "#Sigmoide: [0,1]\n",
    "def sigmoid(x):\n",
    "    return 1.0/(1.0 + np.exp(-x))\n",
    "\n",
    "#Tangente Hiperbólica: [-1, 1]\n",
    "def tanH(x):\n",
    "    return ((1.0 - np.exp(-x)) / (1.0 + np.exp(-x)))\n",
    "\n",
    "#ReLU: Evita o desaparecimento do gradiente\n",
    "def relu(x):\n",
    "    return np.where(x<=0,0,x)\n",
    "\n",
    "#STEP: (-1) ou (1)\n",
    "def step(x):\n",
    "    return np.where(x<=0,-1,1)"
   ]
  },
  {
   "cell_type": "code",
   "execution_count": 57,
   "metadata": {},
   "outputs": [
    {
     "data": {
      "text/plain": [
       "array([[0.14404357, 1.45427351, 0.76103773, 0.12167502, 0.44386323]])"
      ]
     },
     "execution_count": 57,
     "metadata": {},
     "output_type": "execute_result"
    }
   ],
   "source": [
    "#np.random.seed(0)\n",
    "np.random.randn(1,5)"
   ]
  },
  {
   "cell_type": "markdown",
   "metadata": {},
   "source": [
    "▶ x = matriz que corresponde ao dado de entrada;\n",
    "\n",
    "▶ W = pesos da rede que são aprendidos durante o treinamento;\n",
    "\n",
    "▶ y = vetor que corresponde ao rótulo da entrada."
   ]
  },
  {
   "cell_type": "code",
   "execution_count": null,
   "metadata": {},
   "outputs": [],
   "source": []
  },
  {
   "cell_type": "code",
   "execution_count": null,
   "metadata": {},
   "outputs": [],
   "source": []
  }
 ],
 "metadata": {
  "kernelspec": {
   "display_name": "Python 3",
   "language": "python",
   "name": "python3"
  },
  "language_info": {
   "codemirror_mode": {
    "name": "ipython",
    "version": 3
   },
   "file_extension": ".py",
   "mimetype": "text/x-python",
   "name": "python",
   "nbconvert_exporter": "python",
   "pygments_lexer": "ipython3",
   "version": "3.8.3"
  }
 },
 "nbformat": 4,
 "nbformat_minor": 4
}
