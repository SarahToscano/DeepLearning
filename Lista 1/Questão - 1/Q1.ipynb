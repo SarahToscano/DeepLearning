{
 "cells": [
  {
   "cell_type": "markdown",
   "metadata": {},
   "source": [
    "# Questão 1: Perceptron de Rosenblatt"
   ]
  },
  {
   "cell_type": "markdown",
   "metadata": {},
   "source": [
    "## Problema"
   ]
  },
  {
   "cell_type": "markdown",
   "metadata": {},
   "source": [
    "A representação de uma determinada mensagem digital ternária, isto é formada por três bits,\n",
    "forma um cubo cujos vértices correspondem a mesma representação digital. Supondo que ao\n",
    "transmitirmos esta mensagem a mesma possa ser contaminada por ruído formado em torno de\n",
    "cada vértice uma nuvem esférica de valores aleatórios com raio máximo é 0.1 e mínimo de -0.1. "
   ]
  },
  {
   "cell_type": "markdown",
   "metadata": {},
   "source": [
    "## Objetivo"
   ]
  },
  {
   "cell_type": "markdown",
   "metadata": {},
   "source": [
    " Formular este problema como um problema de classificação de 8 padrões e treinar uma rede Perceptron de\n",
    "Rosenblatt (Perceptron de camada única) para atuar como classificador/decodificador. \n",
    "\n",
    "Para esta solução será utilizado o [conjunto de treinamento](input_x.txt)\n",
    "e o [conjunto de validação](output_y.txt)."
   ]
  },
  {
   "cell_type": "markdown",
   "metadata": {},
   "source": [
    "## Importing the libraries"
   ]
  },
  {
   "cell_type": "code",
   "execution_count": 1,
   "metadata": {},
   "outputs": [],
   "source": [
    "import numpy as np\n",
    "import matplotlib.pyplot as plt\n",
    "import matplotlib.patches as mpatches\n",
    "\n",
    "from sklearn.metrics import confusion_matrix, accuracy_score\n",
    "from sklearn.model_selection import train_test_split\n",
    "from sklearn.metrics import classification_report"
   ]
  },
  {
   "cell_type": "markdown",
   "metadata": {},
   "source": [
    "## Metodologia  \n",
    "Almeja-se implementar uma rede neural baseada no Perceptron de Rosenblatt, o qual está ilustrado na Figura abaixo. Para isso serão implementadas:\n",
    "\n",
    "- Função de ativação Step com intervalo de classificação entre 1 e -1;\n",
    "- Uma classe que representa a camada da rede neural;\n",
    "- Uma classe que descreve a rede neural e suas funções: adicionar a camada, calcular o foward, predição, treinamento e avaliação.\n",
    "- Pré-processamento dos dados;\n",
    "- Chamada da rede neural e passagem dos dados de entrada e parâmetros da rede.\n",
    "\n",
    "  <p align=\"center\">\n",
    "    <img src=\"img/perceptron.jpg\">\n",
    "  </p>\n",
    "  "
   ]
  },
  {
   "cell_type": "markdown",
   "metadata": {},
   "source": [
    "## Part 1 - Activation Function\n",
    "\n",
    "Nesta Seção é implementada a função de ativação step, seus intervalos de classificação podem ser vistos na Figuras abaixo:"
   ]
  },
  {
   "cell_type": "code",
   "execution_count": 2,
   "metadata": {},
   "outputs": [],
   "source": [
    "def step(x):\n",
    "    return np.where(x>0,1,-1)"
   ]
  },
  {
   "cell_type": "code",
   "execution_count": 3,
   "metadata": {},
   "outputs": [
    {
     "name": "stdout",
     "output_type": "stream",
     "text": [
      "\n",
      "\t Step: Possui como saída o valor -1 ou 1\n"
     ]
    },
    {
     "data": {
      "image/png": "[encoded data removed]",
      "text/plain": [
       "<Figure size 432x288 with 1 Axes>"
      ]
     },
     "metadata": {
      "needs_background": "light"
     },
     "output_type": "display_data"
    }
   ],
   "source": [
    "data_plot = np.arange(-10., 10., 0.1)\n",
    "def plot_activ_funct(data_plot, func_type):\n",
    "    func = []\n",
    "    for i in range(len(data_plot)):\n",
    "        func.append(step(data_plot[i]))\n",
    "\n",
    "    plt.plot(data_plot,func)\n",
    "    plt.xlabel('Entrada')\n",
    "    plt.ylabel('Saída')\n",
    "    plt.show()\n",
    "\n",
    "print(\"\\n\\t Step: Possui como saída o valor -1 ou 1\")\n",
    "plot_activ_funct(data_plot, 'step')"
   ]
  },
  {
   "cell_type": "markdown",
   "metadata": {},
   "source": [
    "## Part 2 - Layer and ANN Structure"
   ]
  },
  {
   "cell_type": "markdown",
   "metadata": {},
   "source": [
    "### Layer Class"
   ]
  },
  {
   "cell_type": "code",
   "execution_count": 4,
   "metadata": {},
   "outputs": [],
   "source": [
    "class Layer(object):\n",
    "    def __init__(self, input_collumn, num_neurons=1, activation=step):\n",
    "        self.input = None\n",
    "        self.biases = np.random.randn(1, num_neurons)\n",
    "        self.weights = np.random.randn(num_neurons, input_collumn)\n",
    "        self.activation = activation\n",
    "        self._activ_out = None"
   ]
  },
  {
   "cell_type": "markdown",
   "metadata": {},
   "source": [
    "### __Foward"
   ]
  },
  {
   "cell_type": "markdown",
   "metadata": {},
   "source": [
    "Como ilustrado na Figura 1, a saída do neurônio é calculada como sendo o somatório dos produtos entre as entradas e seus pesos. Adicionando o bias. Na função ______Foward__ este valor é passado para a função de ativação e conseguimos obter o valor da saída da camada e a entrada para a camada subsequentes, quando for o caso. \n",
    "\n",
    "\n",
    "$$\n",
    "bias + \\sum_{n=1}^{len(input)} input[n]* weight[n]\n",
    "$$\n",
    "\n"
   ]
  },
  {
   "cell_type": "markdown",
   "metadata": {},
   "source": [
    "### ANN Class\n"
   ]
  },
  {
   "cell_type": "code",
   "execution_count": 5,
   "metadata": {},
   "outputs": [],
   "source": [
    "class ArtificialNeuralNetwork():\n",
    "    def __init__(self):\n",
    "        self.layers = []\n",
    "        \n",
    "    def add_layer(self, new_layer):\n",
    "        self.layers.append(new_layer)\n",
    "        \n",
    "    def __forward(self, x):\n",
    "        self.layers[0].input = x\n",
    "        for current_layer, next_layer in zip(self.layers, self.layers[1:]+[Layer(0,0)]):\n",
    "            y = np.dot(current_layer.input, current_layer.weights.T) + current_layer.biases\n",
    "            current_layer._activ_out = current_layer.activation(y)\n",
    "            next_layer.input = current_layer._activ_out\n",
    "                \n",
    "        return current_layer._activ_out\n",
    "    \n",
    "    def prediction(self, x):\n",
    "        y_pred = []\n",
    "        for i in x:\n",
    "            y_pred.append(self.__forward(i)) \n",
    "        return np.array(y_pred)\n",
    "        \n",
    "    def fit(self, x, y, x_test, y_test, learning_rate=1e-3, epochs=100, plot=False):\n",
    "        errors_train = []\n",
    "        errors_test = []\n",
    "\n",
    "        for epoch in range(epochs+1):\n",
    "            error_epoch = []\n",
    "            for x_i, y_i in zip(x, y):\n",
    "                x_i =  x_i.reshape(1, x.shape[1])\n",
    "                y_pred = self.__forward(x_i)\n",
    "                \n",
    "                erro = y_i - y_pred\n",
    "                error_epoch.append(np.mean(np.abs(erro[0])))\n",
    "                \n",
    "                for layer in self.layers:\n",
    "                    layer.weights += learning_rate * np.dot(erro.T, x_i)\n",
    "                    layer.biases += learning_rate * erro[0]\n",
    "            \n",
    "            y_pred = self.prediction(x_test)\n",
    "            soma = self.accuracy(y_pred, y_test)\n",
    "            errors_test.append(1 - soma)\n",
    "            errors_train.append(np.mean(error_epoch))\n",
    "            \n",
    "        return errors_train, errors_test\n",
    "    \n",
    "    \n",
    "    def accuracy(self,y_pred, y, dtype=int):\n",
    "        \n",
    "        score = 0\n",
    "        total = 1/y.shape[0]\n",
    "        y_pred = y_pred.astype(dtype)\n",
    "        y = y.astype(dtype)\n",
    "\n",
    "        for y_i, y_pred_i in zip(y,y_pred):\n",
    "            if np.array_equal(y_i,y_pred_i[0]):\n",
    "                score+=1\n",
    "\n",
    "        return score*total"
   ]
  },
  {
   "cell_type": "markdown",
   "metadata": {},
   "source": [
    "## Part 1 - Data Preprocessing"
   ]
  },
  {
   "cell_type": "markdown",
   "metadata": {},
   "source": [
    "### Importing the dataset"
   ]
  },
  {
   "cell_type": "code",
   "execution_count": 6,
   "metadata": {},
   "outputs": [],
   "source": [
    "x = []\n",
    "y = []\n",
    "\n",
    "x= np.loadtxt('input_x.txt', dtype=float, delimiter=',', encoding='bytes')\n",
    "y= np.loadtxt('output_y.txt', dtype=float, delimiter=',', encoding='bytes')"
   ]
  },
  {
   "cell_type": "markdown",
   "metadata": {},
   "source": [
    "### Splitting the dataset into the Training set and Test set"
   ]
  },
  {
   "cell_type": "code",
   "execution_count": 7,
   "metadata": {},
   "outputs": [],
   "source": [
    "x_train, x_test, y_train, y_test = train_test_split(x, y, test_size = 0.3, random_state = 0)"
   ]
  },
  {
   "cell_type": "markdown",
   "metadata": {},
   "source": [
    "## Part 2: Building the Artificial Neural Network (ANN)"
   ]
  },
  {
   "cell_type": "code",
   "execution_count": 8,
   "metadata": {},
   "outputs": [],
   "source": [
    "ann=ArtificialNeuralNetwork()\n",
    "ann.add_layer(Layer(input_collumn=x.shape[1], num_neurons=y.shape[1], activation=step))"
   ]
  },
  {
   "cell_type": "markdown",
   "metadata": {},
   "source": [
    "## Part 3 - Training the ANN"
   ]
  },
  {
   "cell_type": "code",
   "execution_count": 9,
   "metadata": {},
   "outputs": [],
   "source": [
    "errors_train, errors_valid = ann.fit(x_train, y_train, x_test, y_test, learning_rate=0.01 , epochs=25, plot=True)"
   ]
  },
  {
   "cell_type": "markdown",
   "metadata": {},
   "source": [
    "## Part 4 - Making the predictions and evaluating the model  "
   ]
  },
  {
   "cell_type": "markdown",
   "metadata": {},
   "source": [
    "### Predicting the Test set results"
   ]
  },
  {
   "cell_type": "code",
   "execution_count": 17,
   "metadata": {},
   "outputs": [
    {
     "data": {
      "image/png": "[encoded data removed]",
      "text/plain": [
       "<Figure size 432x288 with 1 Axes>"
      ]
     },
     "metadata": {
      "needs_background": "light"
     },
     "output_type": "display_data"
    },
    {
     "name": "stdout",
     "output_type": "stream",
     "text": [
      "Erro treino:  [0.4294642857142857, 0.1705357142857143, 0.05803571428571429, 0.027678571428571427, 0.01607142857142857, 0.013392857142857142, 0.008035714285714285, 0.008035714285714285, 0.0026785714285714286, 0.0017857142857142857, 0.0, 0.0, 0.0, 0.0, 0.0, 0.0, 0.0, 0.0, 0.0, 0.0, 0.0, 0.0, 0.0, 0.0, 0.0, 0.0]\n",
      "\n",
      "Erro validacao: [0.7583333333333333, 0.3833333333333333, 0.15833333333333333, 0.1166666666666667, 0.07500000000000007, 0.06666666666666665, 0.04166666666666663, 0.06666666666666665, 0.04166666666666663, 0.04166666666666663, 0.04166666666666663, 0.04166666666666663, 0.04166666666666663, 0.04166666666666663, 0.04166666666666663, 0.04166666666666663, 0.04166666666666663, 0.04166666666666663, 0.04166666666666663, 0.04166666666666663, 0.04166666666666663, 0.04166666666666663, 0.04166666666666663, 0.04166666666666663, 0.04166666666666663, 0.04166666666666663]\n"
     ]
    }
   ],
   "source": [
    "def plot_error(data=[], label=['', ''], color=['purple', 'green']):\n",
    "    plt.title(\"Erros de treino e validação\")\n",
    "    plt.xlabel(\"epocas\")\n",
    "    plt.ylabel(\"erros\")\n",
    "    plt.legend(handles=[mpatches.Patch(color=color[0], label=label[0]),\n",
    "                        mpatches.Patch(color=color[1], label=label[1])])\n",
    "    plt.plot(data[0], c=color[0])\n",
    "    plt.plot(data[1], c=color[1])\n",
    "    plt.show()\n",
    "    print(\"Erro treino: \", data[0])\n",
    "    print(\"\\nErro validacao:\", data[1])\n",
    "\n",
    "plot_error([errors_train, errors_valid], [\"Treino\", \"Validação\"])"
   ]
  },
  {
   "cell_type": "code",
   "execution_count": null,
   "metadata": {},
   "outputs": [],
   "source": []
  }
 ],
 "metadata": {
  "kernelspec": {
   "display_name": "Python 3",
   "language": "python",
   "name": "python3"
  },
  "language_info": {
   "codemirror_mode": {
    "name": "ipython",
    "version": 3
   },
   "file_extension": ".py",
   "mimetype": "text/x-python",
   "name": "python",
   "nbconvert_exporter": "python",
   "pygments_lexer": "ipython3",
   "version": "3.8.3"
  }
 },
 "nbformat": 4,
 "nbformat_minor": 4
}
